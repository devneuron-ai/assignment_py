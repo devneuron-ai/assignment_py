{
 "cells": [
  {
   "cell_type": "markdown",
   "id": "b7787f5c-44f2-40df-a78b-d2139fed7775",
   "metadata": {},
   "source": [
    "Q1. Create one variable containing following type of data:\n",
    "(i) string\n",
    "(ii) list\n",
    "(iii) float\n",
    "(iv) tuple"
   ]
  },
  {
   "cell_type": "code",
   "execution_count": 11,
   "id": "1a9ea26b-ef9d-47e3-9f46-d6947067e643",
   "metadata": {},
   "outputs": [],
   "source": [
    "# String\n",
    "my_string = \"Hello, world!\"\n",
    "\n",
    "# List\n",
    "my_list = [1, 2, 3, 4, 5]\n",
    "\n",
    "# Float\n",
    "my_float = 3.14\n",
    "\n",
    "# Tuple\n",
    "my_tuple = (10, 20, 30, 40, 50)\n"
   ]
  },
  {
   "cell_type": "markdown",
   "id": "0b077b28-14bf-4b41-9190-b0ef356f5ba9",
   "metadata": {},
   "source": [
    "Q2. Given are some following variables containing data:\n",
    "\n",
    "(i) var1 = ‘ ‘\n",
    "\n",
    "(ii) var2 = ‘[ DS , ML , Python]’\n",
    "\n",
    "(iii) var3 = [ ‘DS’ , ’ML’ , ‘Python’ ]\n",
    "\n",
    "(iv) var4 = 1.\n",
    "\n",
    "What will be the data type of the above given variable."
   ]
  },
  {
   "cell_type": "markdown",
   "id": "c9dd1b15-6455-4982-8eed-56561733223a",
   "metadata": {},
   "source": [
    "``Answer :- ``\n",
    "\n",
    "\n",
    "(i)`var1 = '' ` \n",
    "\n",
    "- this variable `var1` containa single character \n",
    "\n",
    "(ii)`var2 '[DS,ML,Python]'`\n",
    "\n",
    "- this variable `var2` contains string and square bracket\n",
    "\n",
    "(iii)`var3 ['DS','ML','Python']`\n",
    "\n",
    "- this variable `var3` contains list of string\n",
    "\n",
    "(iv)`var4 = 1`\n",
    "\n",
    "- this variable `var4` contains integer value  "
   ]
  },
  {
   "cell_type": "markdown",
   "id": "110ba543-edff-4488-a882-6e2ab4287664",
   "metadata": {},
   "source": [
    "Q3. Explain the use of the following operators using an example:\n",
    "\n",
    "(i) /\n",
    "\n",
    "(ii) %\n",
    "\n",
    "(iii) //\n",
    "\n",
    "(iv) **"
   ]
  },
  {
   "cell_type": "markdown",
   "id": "edd95371-5dfc-4201-b930-2c82ab09bbfb",
   "metadata": {},
   "source": [
    "(i)`/` (Division operator)\n",
    "- 10/2 = 5\n",
    "\n",
    "(ii)`%` (Modulo operator)\n",
    "- 10%3 = 1\n",
    "\n",
    "(iii)`//` (Floor division operator)\n",
    "- 10//3 = 3\n",
    "\n",
    "(iv)`**` (Exponentiation operator)\n",
    "- 2**3 = 8"
   ]
  },
  {
   "cell_type": "markdown",
   "id": "b354106a-ec48-4098-908c-7aaad0ea7fe5",
   "metadata": {},
   "source": [
    "Q4. Create a list of length 10 of your choice containing multiple types of data. Using for loop print the\n",
    "element and its data type."
   ]
  },
  {
   "cell_type": "code",
   "execution_count": 5,
   "id": "a794508c-24f5-4565-830f-243545cfaf81",
   "metadata": {},
   "outputs": [
    {
     "name": "stdout",
     "output_type": "stream",
     "text": [
      "10 <class 'int'>\n",
      "3.14 <class 'float'>\n",
      "Hello <class 'str'>\n",
      "True <class 'bool'>\n",
      "[1, 2, 3] <class 'list'>\n",
      "{'a': 1, 'b': 2} <class 'dict'>\n",
      "(4, 5) <class 'tuple'>\n",
      "None <class 'NoneType'>\n",
      "False <class 'bool'>\n",
      "{'name': 'John', 'age': 30} <class 'dict'>\n"
     ]
    }
   ],
   "source": [
    "my_list = [10, 3.14, \"Hello\", True, [1, 2, 3], {'a': 1, 'b': 2}, (4, 5), None, False, {\"name\": \"John\", \"age\": 30}]\n",
    "\n",
    "for item in my_list:\n",
    "    print(item, type(item))\n"
   ]
  },
  {
   "cell_type": "markdown",
   "id": "bc001906-521c-4abf-884a-1361e592caff",
   "metadata": {},
   "source": [
    "Q5. Using a while loop, verify if the number A is purely divisible by number B and if so then how many\n",
    "times it can be divisible."
   ]
  },
  {
   "cell_type": "code",
   "execution_count": 8,
   "id": "4d5e7ec7-ea7e-4891-801b-41bb80d61fa3",
   "metadata": {},
   "outputs": [
    {
     "name": "stdin",
     "output_type": "stream",
     "text": [
      "Enter number A:  10\n",
      "Enter number B:  2\n"
     ]
    },
    {
     "name": "stdout",
     "output_type": "stream",
     "text": [
      "5.0 was divisible by 2 1 times.\n"
     ]
    }
   ],
   "source": [
    "A = int(input(\"Enter number A: \"))\n",
    "B = int(input(\"Enter number B: \"))\n",
    "\n",
    "count = 0\n",
    "\n",
    "# Checking if A is purely divisible by BQ6.\n",
    "while A % B == 0:\n",
    "    A = A / B\n",
    "    count += 1\n",
    "\n",
    "if count > 0:\n",
    "    print(f\"{A} was divisible by {B} {count} times.\")\n",
    "else:\n",
    "    print(f\"{A} is not divisible by {B}.\")\n"
   ]
  },
  {
   "cell_type": "markdown",
   "id": "f48d5102-7006-4d04-bea5-2533713fd6fd",
   "metadata": {},
   "source": [
    "Q6. Create a list containing 25 int type data. Using for loop and if-else condition print if the element is\n",
    "divisible by 3 or not."
   ]
  },
  {
   "cell_type": "code",
   "execution_count": 14,
   "id": "c3704737-9397-4305-bd3b-e9afb161eee3",
   "metadata": {},
   "outputs": [],
   "source": [
    "my_list2=[12,45,67,89,23,67,80,78,23,56,78,89,90,54,34,56,78,89,10,97,89,764,9,8,56]"
   ]
  },
  {
   "cell_type": "code",
   "execution_count": 21,
   "id": "eea8b6db-0600-4a7e-b9a0-268dc2b5c36a",
   "metadata": {},
   "outputs": [
    {
     "name": "stdout",
     "output_type": "stream",
     "text": [
      "12 is division by 3\n",
      "45 is division by 3\n",
      "67 is not dividion by 3\n",
      "89 is not dividion by 3\n",
      "23 is not dividion by 3\n",
      "67 is not dividion by 3\n",
      "80 is not dividion by 3\n",
      "78 is division by 3\n",
      "23 is not dividion by 3\n",
      "56 is not dividion by 3\n",
      "78 is division by 3\n",
      "89 is not dividion by 3\n",
      "90 is division by 3\n",
      "54 is division by 3\n",
      "34 is not dividion by 3\n",
      "56 is not dividion by 3\n",
      "78 is division by 3\n",
      "89 is not dividion by 3\n",
      "10 is not dividion by 3\n",
      "97 is not dividion by 3\n",
      "89 is not dividion by 3\n",
      "764 is not dividion by 3\n",
      "9 is division by 3\n",
      "8 is not dividion by 3\n",
      "56 is not dividion by 3\n"
     ]
    }
   ],
   "source": [
    "for n in my_list2:\n",
    "    if n %3 ==0:\n",
    "        print(f\"{n} is division by 3\")\n",
    "    else:\n",
    "        print(f\"{n} is not dividion by 3\")"
   ]
  },
  {
   "cell_type": "markdown",
   "id": "e8fd61f1-8cb9-4c5e-a0c9-0ccc918a0e32",
   "metadata": {},
   "source": [
    "Q7. What do you understand about mutable and immutable data types? Give examples for both showing\n",
    "this property."
   ]
  },
  {
   "cell_type": "markdown",
   "id": "58ea3505-cb03-40c7-8219-25ce41cb0c49",
   "metadata": {},
   "source": [
    "- `Mutable data types:` Objects whose value can be changed after creation are called mutable. This means that you can modify the object's state, such as adding or removing elements, without changing its identity.\n",
    "\n",
    "- `Immutable data types:` Objects whose value cannot be changed after creation are called immutable. Once created, the value of an immutable object cannot be modified. If you need to change the value, a new object must be created."
   ]
  },
  {
   "cell_type": "code",
   "execution_count": 24,
   "id": "5ba37d23-f210-4609-a6d9-e7ec635b908d",
   "metadata": {},
   "outputs": [
    {
     "data": {
      "text/plain": [
       "[10, 34, 78]"
      ]
     },
     "execution_count": 24,
     "metadata": {},
     "output_type": "execute_result"
    }
   ],
   "source": [
    "# `list is mutable data type`\n",
    "my_list =[1,34,78]\n",
    "my_list[0] = 10\n",
    "my_list"
   ]
  },
  {
   "cell_type": "code",
   "execution_count": 29,
   "id": "e180ac17-6c02-488d-a650-90342eeb4db7",
   "metadata": {},
   "outputs": [
    {
     "data": {
      "text/plain": [
       "{1: 'AI', 2: 'ML'}"
      ]
     },
     "execution_count": 29,
     "metadata": {},
     "output_type": "execute_result"
    }
   ],
   "source": [
    "# Dictionaries is mutable data type\n",
    "dis ={1:'DS',2:'ML'}\n",
    "dis[1] = 'AI'\n",
    "dis"
   ]
  },
  {
   "cell_type": "code",
   "execution_count": 35,
   "id": "42d2d565-97f3-4ad8-a95d-a7a4b04d654f",
   "metadata": {},
   "outputs": [
    {
     "ename": "TypeError",
     "evalue": "'tuple' object does not support item assignment",
     "output_type": "error",
     "traceback": [
      "\u001b[0;31m---------------------------------------------------------------------------\u001b[0m",
      "\u001b[0;31mTypeError\u001b[0m                                 Traceback (most recent call last)",
      "Cell \u001b[0;32mIn[35], line 4\u001b[0m\n\u001b[1;32m      2\u001b[0m t \u001b[38;5;241m=\u001b[39m (\u001b[38;5;241m1\u001b[39m,\u001b[38;5;241m2\u001b[39m,\u001b[38;5;241m3\u001b[39m)\n\u001b[1;32m      3\u001b[0m t\n\u001b[0;32m----> 4\u001b[0m \u001b[43mt\u001b[49m\u001b[43m[\u001b[49m\u001b[38;5;241;43m0\u001b[39;49m\u001b[43m]\u001b[49m \u001b[38;5;241m=\u001b[39m \u001b[38;5;241m2\u001b[39m\n",
      "\u001b[0;31mTypeError\u001b[0m: 'tuple' object does not support item assignment"
     ]
    }
   ],
   "source": [
    "#tuple is inmutable data type\n",
    "t = (1,2,3)\n",
    "t\n",
    "t[0] = 2"
   ]
  },
  {
   "cell_type": "code",
   "execution_count": null,
   "id": "5438464a-116b-4b8f-8047-c595c5a4965d",
   "metadata": {},
   "outputs": [],
   "source": []
  },
  {
   "cell_type": "code",
   "execution_count": null,
   "id": "b159d7bf-a620-479e-afff-03cbdd254a1c",
   "metadata": {},
   "outputs": [],
   "source": []
  }
 ],
 "metadata": {
  "kernelspec": {
   "display_name": "Python 3 (ipykernel)",
   "language": "python",
   "name": "python3"
  },
  "language_info": {
   "codemirror_mode": {
    "name": "ipython",
    "version": 3
   },
   "file_extension": ".py",
   "mimetype": "text/x-python",
   "name": "python",
   "nbconvert_exporter": "python",
   "pygments_lexer": "ipython3",
   "version": "3.10.8"
  }
 },
 "nbformat": 4,
 "nbformat_minor": 5
}
